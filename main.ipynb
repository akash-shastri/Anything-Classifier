{
 "cells": [
  {
   "cell_type": "code",
   "execution_count": 5,
   "metadata": {},
   "outputs": [],
   "source": [
    "from fastai.vision.all import *\n",
    "from fastai.vision.widgets import *\n",
    "from tkinter import *\n",
    "import shutil\n",
    "from tkinter import filedialog\n",
    "import PIL.Image\n",
    "import PIL.ImageTk"
   ]
  },
  {
   "cell_type": "markdown",
   "metadata": {},
   "source": [
    "## Imports"
   ]
  },
  {
   "cell_type": "code",
   "execution_count": 6,
   "metadata": {},
   "outputs": [],
   "source": [
    "import sys\n",
    "\n",
    "sys.path.append('../')\n",
    "\n",
    "from Scraping.scraper import *\n",
    "\n",
    "\n"
   ]
  },
  {
   "cell_type": "markdown",
   "metadata": {},
   "source": [
    "## Scraping Images\n"
   ]
  },
  {
   "cell_type": "code",
   "execution_count": 7,
   "metadata": {
    "scrolled": true
   },
   "outputs": [],
   "source": [
    "\n",
    "def Create_db(DRIVER_PATH, search_term, number_images = 100, target_path = './images'):\n",
    "    for ele in search_term:\n",
    "        search_and_download(search_term = ele, driver_path=DRIVER_PATH, target_path=target_path, number_images=number_images)"
   ]
  },
  {
   "cell_type": "markdown",
   "metadata": {},
   "source": [
    "## Training\n"
   ]
  },
  {
   "cell_type": "code",
   "execution_count": 28,
   "metadata": {},
   "outputs": [],
   "source": [
    "def train(path = None):\n",
    "    \n",
    "    \n",
    "    data = DataBlock(\n",
    "        blocks=(ImageBlock, CategoryBlock), \n",
    "        get_items=get_image_files, \n",
    "        splitter=RandomSplitter(valid_pct=0.2, seed=42),\n",
    "        get_y=parent_label,\n",
    "        item_tfms=Resize(128),)\n",
    "\n",
    "\n",
    "\n",
    "    data = data.new(item_tfms=Resize(128), batch_tfms=aug_transforms(mult=2))\n",
    "    dls = data.dataloaders(path, num_workers = 0)\n",
    "    dls.train.show_batch(max_n=8, nrows=2, unique=True)\n",
    "\n",
    "    learn = cnn_learner(dls, resnet34, metrics=error_rate, num_workers = 0)\n",
    "    learn.fine_tune(5)\n",
    "\n",
    "\n",
    "    learn.export()\n",
    "\n",
    "    path = Path()\n",
    "    path.ls(file_exts='.pkl')"
   ]
  },
  {
   "cell_type": "markdown",
   "metadata": {},
   "source": [
    "## Inference"
   ]
  },
  {
   "cell_type": "code",
   "execution_count": 38,
   "metadata": {},
   "outputs": [],
   "source": [
    "\n",
    "def Classify():\n",
    "    \n",
    "    learn_inf = load_learner('./export.pkl')\n",
    "    root = Toplevel()\n",
    "    root.geometry(\"500x500\")\n",
    "    def UploadAction(event=None):\n",
    "        global img\n",
    "        global label\n",
    "        \n",
    "        filename = filedialog.askopenfilename()\n",
    "        img = PILImage.create(filename)\n",
    "        load = PIL.Image.open(filename)\n",
    "        load = load.resize((300,300))\n",
    "        render = PIL.ImageTk.PhotoImage(load)\n",
    "        label = Label(root, image=render)\n",
    "        label.image = render\n",
    "        label.grid(row = 0, column = 0, columnspan = 3)\n",
    "        \n",
    "    def ClassifyAction(event=None):\n",
    "        global label2\n",
    "        pred,pred_idx,probs = learn_inf.predict(img)\n",
    "        label2 = Text(root, height=2, width=30)\n",
    "        label2.grid(row = 1, column = 0, columnspan = 3)\n",
    "        label2.insert(INSERT, f'Prediction: {pred}; Probability: {probs[pred_idx]:.04f}')        \n",
    "        \n",
    "    def ClearAction():\n",
    "        label.grid_forget()\n",
    "        label2.grid_forget()\n",
    "    up_button = Button(root, text='Upload', command = UploadAction)\n",
    "    up_button.grid(row = 2, column = 0)\n",
    "    \n",
    "    clas_button = Button(root, text = 'Classify', command = ClassifyAction)\n",
    "    clas_button.grid(row =2, column = 1)\n",
    "    \n",
    "    clear_button = Button(root, text = 'Clear', command = ClearAction)\n",
    "    clear_button.grid(row =2, column = 2)\n",
    "    \n",
    "    root.mainloop()"
   ]
  },
  {
   "cell_type": "markdown",
   "metadata": {},
   "source": [
    "# RUN\n"
   ]
  },
  {
   "cell_type": "code",
   "execution_count": 59,
   "metadata": {},
   "outputs": [],
   "source": [
    "top = Tk()\n",
    "top.title(\"Main\")\n",
    "top.geometry(\"200x200\")\n",
    "global target_path_i\n",
    "target_path_i =  './images'\n",
    "def on_create_ds():\n",
    "    global target_path_i\n",
    "    root = Toplevel(height = 500, width = 500)\n",
    "    root.title(\"Create Database\")\n",
    "    def retrieve_input():\n",
    "        global target_path_i\n",
    "        Driver_path_i=Driver_path.get(\"1.0\",\"end-1c\")\n",
    "        options=search_term.get(1.0, END)# get lines into string\n",
    "        #Remove spaces in list of lines\n",
    "        search_term_i = [i.strip() for i in options.splitlines()]\n",
    "        \n",
    "        number_images_i=number_images.get(\"1.0\",\"end-1c\")\n",
    "        target_path_i=target_path.get(\"1.0\",\"end-1c\")\n",
    "        try:\n",
    "            shutil.rmtree(target_path_i)\n",
    "        except:\n",
    "            pass\n",
    "        Create_db(Driver_path_i, search_term_i, number_images = 100, target_path_i = './images')\n",
    "        \n",
    "        label_done = Label(root, text = \"DONE! YOU CAN TRAIN NOW! \")\n",
    "        label_done.pack(padx = 10, pady = 10)\n",
    "\n",
    "    var1 = StringVar()\n",
    "    label1 = Label( root, textvariable=var1 )\n",
    "    var1.set(\"Driver Path\")\n",
    "    label1.pack()\n",
    "    Driver_path=Text(root, height=2, width=100)\n",
    "    Driver_path.pack(padx = 10, pady = 10)\n",
    "    Driver_path.insert(INSERT,\"D:\\Deep Learning\\Scraping\\chromedriver.exe\")\n",
    "    \n",
    "    var2 = StringVar()\n",
    "    label2 = Label( root, textvariable=var2 )\n",
    "    var2.set(\"search_term\")\n",
    "    label2.pack()\n",
    "    search_term=Text(root, height=2, width=100)\n",
    "    search_term.pack(padx = 10, pady = 10)\n",
    "    \n",
    "    var3 = StringVar()\n",
    "    label3 = Label( root, textvariable=var3 )\n",
    "    var3.set(\"number_images\")\n",
    "    label3.pack()\n",
    "    number_images=Text(root, height=2, width=100)\n",
    "    number_images.pack(padx = 10, pady = 10)\n",
    "    number_images.insert(INSERT,\"100\")\n",
    "    \n",
    "    var4 = StringVar()\n",
    "    label4 = Label( root, textvariable=var4 )\n",
    "    var4.set(\"target_path\")\n",
    "    label4.pack()\n",
    "    target_path=Text(root, height=2, width=100)\n",
    "    target_path.pack(padx = 10, pady = 10)\n",
    "    target_path.insert(INSERT,\"./images\")\n",
    "    \n",
    "    buttonCommit=Button(root, height=1, width=10, text=\"Commit\", \n",
    "                    command=lambda: retrieve_input())\n",
    "    buttonCommit.pack()\n",
    "    root.mainloop()\n",
    "    \n",
    "def on_train():\n",
    "    \n",
    "    train(path = str(target_path_i))\n",
    "    label = Label(top, text = \"DONE! You can Classify NOW!\")\n",
    "    label.grid(row = 3, column = 0)\n",
    "    \n",
    "    \n",
    "\n",
    "\n",
    "\n",
    "b1 = Button( text =\"create_ds\", command = on_create_ds)\n",
    "b1.grid(row = 0, column = 0)\n",
    "b2 = Button(text =\"train\", command = on_train)\n",
    "b2.grid(row = 1, column = 0)\n",
    "b3 = Button( text =\"classify\", command = Classify)\n",
    "b3.grid(row = 2, column = 0)\n",
    "\n",
    "\n",
    "\n",
    "\n",
    "top.mainloop()"
   ]
  },
  {
   "cell_type": "code",
   "execution_count": null,
   "metadata": {},
   "outputs": [],
   "source": []
  },
  {
   "cell_type": "code",
   "execution_count": null,
   "metadata": {},
   "outputs": [],
   "source": []
  }
 ],
 "metadata": {
  "kernelspec": {
   "display_name": "Python 3",
   "language": "python",
   "name": "python3"
  },
  "language_info": {
   "codemirror_mode": {
    "name": "ipython",
    "version": 3
   },
   "file_extension": ".py",
   "mimetype": "text/x-python",
   "name": "python",
   "nbconvert_exporter": "python",
   "pygments_lexer": "ipython3",
   "version": "3.8.3"
  }
 },
 "nbformat": 4,
 "nbformat_minor": 4
}
